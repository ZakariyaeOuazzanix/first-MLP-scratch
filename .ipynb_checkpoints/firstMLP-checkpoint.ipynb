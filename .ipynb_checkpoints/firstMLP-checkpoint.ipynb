{
 "cells": [
  {
   "cell_type": "code",
   "execution_count": 1,
   "id": "47d8597f-bcbb-4447-a675-dd2d6ff585f4",
   "metadata": {},
   "outputs": [],
   "source": [
    "import numpy as np\n",
    "import matplotlib.pyplot as plt"
   ]
  },
  {
   "cell_type": "code",
   "execution_count": 2,
   "id": "cf785195-471e-4ce8-895d-26dae24494dc",
   "metadata": {},
   "outputs": [],
   "source": [
    "def relU(vector): \n",
    "    ln = len(vector) #do in place modification\n",
    "    for i in range(ln):\n",
    "        if vector[i] < 0:\n",
    "            vector[i] = 0\n",
    "    return vector"
   ]
  },
  {
   "cell_type": "code",
   "execution_count": 50,
   "id": "d7281802-d5ec-417a-8c2f-c5a8a5e2bd53",
   "metadata": {},
   "outputs": [
    {
     "data": {
      "text/plain": [
       "array([ 7, 19])"
      ]
     },
     "execution_count": 50,
     "metadata": {},
     "output_type": "execute_result"
    }
   ],
   "source": [
    "a = np.array([[1,2,3],[4,5,6]])\n",
    "x = np.array([2,1,1])\n",
    "res = np.matmul(a,x)\n",
    "res"
   ]
  },
  {
   "cell_type": "code",
   "execution_count": 36,
   "id": "5c0081d3-e404-40cc-adbf-456bed9bd86e",
   "metadata": {},
   "outputs": [
    {
     "data": {
      "text/plain": [
       "True"
      ]
     },
     "execution_count": 36,
     "metadata": {},
     "output_type": "execute_result"
    }
   ],
   "source": [
    "a = None\n",
    "a is None"
   ]
  },
  {
   "cell_type": "code",
   "execution_count": 78,
   "id": "954b0eec-1449-4e01-9590-456953546176",
   "metadata": {},
   "outputs": [],
   "source": [
    "class Weight:\n",
    "    \n",
    "    def __init__(self):\n",
    "        self.value = np.random.randn(1).item()\n",
    "        self.grad = 0\n",
    "        self.outFactor = None\n",
    "        \n",
    "    def __repr__(self):\n",
    "        if self.outFactor is None :\n",
    "            return f\" |Weight : value : {self.value}, grad : {self.grad}| \"\n",
    "        else :\n",
    "            return f\" |Weight : value : {self.value}, grad : {self.grad}, out factor : {self.outFactor}| \"\n",
    "\n",
    "class Bias:\n",
    "    \n",
    "    def __init__(self):\n",
    "        self.value = np.random.randn(1).item()\n",
    "        self.grad = 0\n",
    "        \n",
    "    def __repr__(self):\n",
    "       return f\" |Bias : value : {self.value}, grad : {self.grad}| \"\n",
    "\n",
    "class Neuron:\n",
    "    \n",
    "    def __init__(self, numInputs):\n",
    "        self.numInputs = numInputs\n",
    "        self.weights = [Weight() for i in range(numInputs)]\n",
    "        self.bias = Bias()\n",
    "        \n",
    "    def __repr__(self):\n",
    "        return f\"Num Inputs : {self.numInputs}, weights : {self.weights}, bias : {self.bias}\"\n",
    "\n",
    "class Layer:\n",
    "    \n",
    "    def __init__(self, numNeurons, numNeuronsLastLayer):\n",
    "        self.numNeuronsLastLayer = numNeuronsLastLayer\n",
    "        self.numNeurons = numNeurons\n",
    "        self.neurons = [Neuron(numNeuronsLastLayer) for i in range(numNeurons)]\n",
    "        \n",
    "    def __repr__(self):\n",
    "        return f\"Num neurons : {self.numNeurons}, num Inputs to each neuron : {self.numNeuronsLastLayer}\"\n",
    "\n",
    "class MLP: \n",
    "             \n",
    "    def __init__(self, numNeuronsEachLayer, numFirstInputs):\n",
    "        self.numFirstInputs = numFirstInputs\n",
    "        self.numLayers = len(numNeuronsEachLayer)\n",
    "        self.numNeuronsEachLayer = numNeuronsEachLayer\n",
    "        NEL = numNeuronsEachLayer\n",
    "        self.layers = [Layer(NEL[0], numFirstInputs)] + [Layer(NEL[i], NEL[i-1]) for i in range(1, self.numLayers)]\n",
    "\n",
    "    def __repr__(self):\n",
    "        string = f\"Num Layers : {self.numLayers}, num neurons in each layer :\"\n",
    "        for layer in self.layers:\n",
    "            string += f\"\\n{layer}\"\n",
    "        return string  \n",
    "        \n",
    "    def feedForward(self, inputs):\n",
    "        lnIns = len(inputs)\n",
    "        if lnIns == self.numFirstInputs:\n",
    "            for i in range(self.numLayers):\n",
    "                WeightsMatrix = [neuron.weights for neuron in self.layers[i].neurons]\n",
    "                biasesVector = [neuron.bias for neuron in self.layers[i].neurons]\n",
    "                # print(f\"weights matrix n°{i} : {WeightsMatrix}\")\n",
    "                # print(f\"biases vector n°{i} : {biasesVector}\")\n",
    "                if i == self.numLayers -1 : #last layer\n",
    "                    \n",
    "                    #return (np.matmul(WeightsMatrix, inputs) + biasesVector).item()\n",
    "                    prediction = []\n",
    "                    for rowIdx in range(len(WeightsMatrix)):\n",
    "                        resultSum = 0\n",
    "                        for colIdx in range(len(WeightsMatrix[rowIdx])):\n",
    "                            outFactor = inputs[colIdx]\n",
    "                            resultSum += WeightsMatrix[rowIdx][colIdx].value * outFactor + biasesVector[colIdx].value\n",
    "                            WeightsMatrix[rowIdx][colIdx].outFactor = outFactor\n",
    "                        prediction.append(resultSum)\n",
    "                    return prediction\n",
    "\n",
    "                result = []\n",
    "                for rowIdx in range(len(WeightsMatrix)):\n",
    "                    resultSum = 0\n",
    "                    for colIdx in range(len(WeightsMatrix[rowIdx])):\n",
    "                        outFactor = inputs[colIdx]\n",
    "                        resultSum += WeightsMatrix[rowIdx][colIdx].value * outFactor + biasesVector[colIdx].value\n",
    "                        WeightsMatrix[rowIdx][colIdx].outFactor = outFactor\n",
    "                    result.append(resultSum)\n",
    "                inputs = result #this is the output vector of this layer and the input to the next\n",
    "\n",
    "    def print_params(self):\n",
    "        count_neurons = 0\n",
    "        for layer in self.layers:\n",
    "            for neuron in layer.neurons:\n",
    "                count_neurons += 1\n",
    "                print(f\"the neuron's weights : {neuron.weights}, its bias : {neuron.bias}\")\n",
    "        print(f\"the total number of neurons is : {count_neurons}\")\n",
    "\n",
    "    def getLoss(self, inputs, target):#i have to pay attention to the shapes\n",
    "        prediction = self.feedForward(inputs)\n",
    "        ln = len(prediction)\n",
    "        loss = sum([(prediction[i] - target[i])**2 for i in range(ln)])/ln\n",
    "        return loss\n",
    "        # loss = 0\n",
    "        # ln_pred = 1\n",
    "        # ln_target = 1\n",
    "        # try:\n",
    "        #     ln_pred = len(prediction)\n",
    "        #     ln_target = len(target)\n",
    "        # except:\n",
    "        #     prediction = [prediction]\n",
    "        #     target = [target]\n",
    "        # if ln_pred == ln_target:\n",
    "        #     for pred,t in zip(prediction,target):\n",
    "        #         loss += (pred - t) **2\n",
    "        #     return loss\n",
    "        \n",
    "\n",
    "    def getParameterInfluence(self, ithLayer, nthNeuron, jthWeight, inputs, target, isbias = False):\n",
    "        # to view how the loss changes when the parameter changes (loss in y-axis, p in x-axis)\n",
    "        # let's view this just when the parameter is between -10 and 10 and view 50 ...\n",
    "        lossOutcomes = []\n",
    "        if isbias:\n",
    "            pass\n",
    "        else:\n",
    "            for i in np.linspace(-100,100,100):\n",
    "                self.layers[ithLayer].neurons[nthNeuron].weights[jthWeight] = i\n",
    "                lossOutcomes.append(self.getLoss(inputs, target))\n",
    "            return np.array(lossOutcomes).reshape((100,1))\n",
    "\n",
    "# check out website : https://mattmazur.com/2015/03/17/a-step-by-step-backpropagation-example/\n",
    "\n",
    "#check in the site if this below is correct\n",
    "# we have : dErr/dw11(ly3) = (dErr/dOut) * (dOut/dnetin) * (dnet/dw11)   // the Out is what comes out of the neuron after the activation\n",
    "# and let's have : Err = 1/2 (Out - target)**2,   Out = relU(netin),  net = w11 * out1(ly2) + w12 * out2(ly2)\n",
    "# so : dErr/dOut = Out - target and dOut/dnetin = (relU)'  and dnet/dw11 = out1(ly2)\n",
    "# so putting all together, we get : dErr/dw11(ly3) = (Out - target) * (relU)' * out1(ly2)\n",
    "# symmetrically, dErr/dw12(ly3) = (Out - target) * (relU)' * out2(ly2)\n",
    "# with this one above, we can only calculate the grad with respect to the most outer layer (the pred layer) because we use the target in the equation\n",
    "\n",
    "    def getGradLoss(self, ithLayer, nthNeuron, jthWeight, inputs, target, kthOutput):\n",
    "        prediction = self.feedForward(inputs)\n",
    "        print(prediction)\n",
    "        loss = prediction[kthOutput] - target[kthOutput]\n",
    "        weightOutFactor = self.layers[ithLayer].neurons[nthNeuron].weights[jthWeight].outFactor\n",
    "        reluDerivative = 1\n",
    "        grad = (prediction[kthOutput] - target[kthOutput]) * reluDerivative * weightOutFactor\n",
    "        self.layers[ithLayer].neurons[nthNeuron].weights[jthWeight].grad = grad\n",
    "        return [grad,loss]"
   ]
  },
  {
   "cell_type": "code",
   "execution_count": 75,
   "id": "5bf310f8-0e9d-4247-8f37-3af9f50d002d",
   "metadata": {},
   "outputs": [
    {
     "name": "stdout",
     "output_type": "stream",
     "text": [
      "[2.378004928067023, 0.352809680258816]\n"
     ]
    }
   ],
   "source": [
    "mlp_example = MLP([2,2],2)\n",
    "target = [0.01, 0.99]\n",
    "inputs = [0.05, 0.1]\n",
    "prediction = mlp_example.feedForward(inputs)\n",
    "print(prediction)\n",
    "#print(((prediction[0]-target[0])**2 + (prediction[1]-target[1])**2)/2)\n",
    "#print(mlp_example.getLoss(inputs, target))\n",
    "#mlp_example.getGradOut(1,0,0,inputs,target,0)"
   ]
  },
  {
   "cell_type": "code",
   "execution_count": 77,
   "id": "06f9610e-be50-40eb-9597-7820b7c33551",
   "metadata": {},
   "outputs": [
    {
     "name": "stdout",
     "output_type": "stream",
     "text": [
      "7.52316384526264e-35\n",
      "7.52316384526264e-35\n",
      "7.52316384526264e-35\n",
      "7.52316384526264e-35\n",
      "7.52316384526264e-35\n"
     ]
    },
    {
     "data": {
      "text/plain": [
       "[<matplotlib.lines.Line2D at 0x1f3462e3350>]"
      ]
     },
     "execution_count": 77,
     "metadata": {},
     "output_type": "execute_result"
    },
    {
     "data": {
      "image/png": "[encoded data removed]",
      "text/plain": [
       "<Figure size 640x480 with 1 Axes>"
      ]
     },
     "metadata": {},
     "output_type": "display_data"
    }
   ],
   "source": [
    "#grad = mlp_example.layers[1].neurons[0].weights[0].grad\n",
    "learning_rate = 0.2\n",
    "grads = []\n",
    "losses = []\n",
    "for i in range(30):\n",
    "    [grad,loss] = mlp_example.getGradLoss(1,0,0,inputs,target,0) \n",
    "    if i <5 :\n",
    "        print(loss)\n",
    "    grads.append(grad)\n",
    "    losses.append(loss)\n",
    "    mlp_example.layers[1].neurons[0].weights[0].value -= learning_rate * grad  #update the weight \n",
    "plt.plot(grads,losses)"
   ]
  },
  {
   "cell_type": "code",
   "execution_count": 79,
   "id": "7dfaecbf-4e4a-4965-8b83-1e7d4c5074e4",
   "metadata": {},
   "outputs": [
    {
     "data": {
      "text/plain": [
       "[1.7823844898299217e-17, 7.52316384526264e-35]"
      ]
     },
     "execution_count": 79,
     "metadata": {},
     "output_type": "execute_result"
    }
   ],
   "source": [
    "mlp_example.getGradLoss(1,0,0,inputs,target,0)"
   ]
  },
  {
   "cell_type": "code",
   "execution_count": 80,
   "id": "4b355ce8-60e7-4bab-b6b2-0ab196b69d0a",
   "metadata": {},
   "outputs": [
    {
     "data": {
      "text/plain": [
       "9.999999999999965e-05"
      ]
     },
     "execution_count": 80,
     "metadata": {},
     "output_type": "execute_result"
    }
   ],
   "source": [
    "(1.7823844898299217e-17 - 0.01) **2"
   ]
  },
  {
   "cell_type": "code",
   "execution_count": 105,
   "id": "a2c16b58-83cd-4dd5-872f-0d733e624209",
   "metadata": {},
   "outputs": [
    {
     "data": {
      "image/png": "[encoded data removed]",
      "text/plain": [
       "<Figure size 640x480 with 1 Axes>"
      ]
     },
     "metadata": {},
     "output_type": "display_data"
    }
   ],
   "source": [
    "#let's say i want to have an input of (2,-1,3) and the target is 1 let's reset the mlp and calculate the loss\n",
    "numNeuronsEachLayer = [2,2,1]\n",
    "numInputs = 3\n",
    "first_mlp = MLP(numNeuronsEachLayer,numInputs) \n",
    "inputs = [2,-1,3]\n",
    "target = 1\n",
    "x = np.linspace(-100,100,100).reshape((100,1))\n",
    "layerNumber = 0\n",
    "#neuronNumber = 0\n",
    "for neuronNumber in range (len(first_mlp.layers[layerNumber].neurons)):\n",
    "    for weightNumber in range(len(first_mlp.layers[layerNumber].neurons[neuronNumber].weights)):\n",
    "        losses = [first_mlp.getParameterInfluence(layerNumber, neuronNumber, weightNumber, inputs, target)]\n",
    "        losses = np.array(losses).reshape((100,1))\n",
    "        plt.plot(x,losses)\n",
    "\n"
   ]
  },
  {
   "cell_type": "code",
   "execution_count": 131,
   "id": "1c2fde0e-3cd9-4ea4-b750-087b2fd111f4",
   "metadata": {},
   "outputs": [
    {
     "name": "stdout",
     "output_type": "stream",
     "text": [
      "[[-4.22152358]]\n"
     ]
    }
   ],
   "source": [
    "inputs = np.array([3.65242382, 0.]).reshape((2,1))\n",
    "a = np.array([ -0.72341732,  0.51790669]).reshape((1,2))\n",
    "biases = np.array([-1.57929693]).reshape((1,1))\n",
    "print(np.matmul(a,inputs) + biases)\n"
   ]
  },
  {
   "cell_type": "code",
   "execution_count": 143,
   "id": "8893f9a7-defa-444f-934b-5a7ec755f138",
   "metadata": {},
   "outputs": [
    {
     "data": {
      "text/plain": [
       "1.4598223468436633"
      ]
     },
     "execution_count": 143,
     "metadata": {},
     "output_type": "execute_result"
    }
   ],
   "source": [
    "first_mlp.feedForward([2,1,-3])"
   ]
  },
  {
   "cell_type": "code",
   "execution_count": 114,
   "id": "147b70a1-6290-4dd7-a36f-2c747af7ab3a",
   "metadata": {},
   "outputs": [
    {
     "name": "stdout",
     "output_type": "stream",
     "text": [
      "[3.63617507164974, 0.0, 4.825545936078129, 32.2124572011748, 0.6333543503080545, 0.0, 0.0, 0.8879144003930031, 0.0, 0.8697516665611187]\n"
     ]
    }
   ],
   "source": [
    "predictions = []\n",
    "for i in range(10):\n",
    "    first_mlp = MLP([2,2,1],3)\n",
    "    predictions.append(first_mlp.feedForward([2,1,-3]))\n",
    "print(predictions)\n"
   ]
  },
  {
   "cell_type": "code",
   "execution_count": null,
   "id": "41a02720-d85d-4668-b2a7-08c467e8e9f8",
   "metadata": {},
   "outputs": [],
   "source": []
  },
  {
   "cell_type": "code",
   "execution_count": 27,
   "id": "4311a6ce-e6fe-41e3-9937-ec86e5411ee4",
   "metadata": {},
   "outputs": [
    {
     "data": {
      "text/plain": [
       "(1,)"
      ]
     },
     "execution_count": 27,
     "metadata": {},
     "output_type": "execute_result"
    }
   ],
   "source": [
    "[x1, x2, x3] = [2,1,-3]\n",
    "inputs = [x1, x2, x3]\n",
    "inputs = np.array(inputs)\n",
    "numInputs = len(inputs)\n",
    "numNeuronsEachLayer = [numInputs, 2, 2, 1]\n",
    "neurons = {\n",
    "'neuron1' : {'Layer' : 1, 'bias' : np.random.randn(1), 'W': np.random.randn(numNeuronsEachLayer[0])},\n",
    "'neuron2' : {'Layer' : 1, 'bias' : np.random.randn(1) , 'W': np.random.randn(numNeuronsEachLayer[0])},\n",
    "'neuron3' : {'Layer' : 2, 'bias' : np.random.randn(1) , 'W': np.random.randn(numNeuronsEachLayer[1])},\n",
    "'neuron4' : {'Layer' : 2, 'bias' : np.random.randn(1) , 'W': np.random.randn(numNeuronsEachLayer[1])},\n",
    "'neuron5' : {'Layer' : 3, 'bias' : np.random.randn(1) , 'W': np.random.randn(numNeuronsEachLayer[2])}\n",
    "}\n",
    "numLayers = len(numNeuronsEachLayer)\n",
    "target = -1\n"
   ]
  },
  {
   "cell_type": "code",
   "execution_count": 10,
   "id": "c46c26fd-d4d5-47fd-a8eb-be7a25e30a2a",
   "metadata": {},
   "outputs": [
    {
     "data": {
      "text/plain": [
       "[6, 4, 2]"
      ]
     },
     "execution_count": 10,
     "metadata": {},
     "output_type": "execute_result"
    }
   ],
   "source": [
    "numConnectionsEachLayer = []\n",
    "for i in range(numLayers -1):\n",
    "     numConnectionsEachLayer.append(numNeuronsEachLayer[i] * numNeuronsEachLayer[i+1])\n",
    "\n",
    "numConnectionsEachLayer"
   ]
  },
  {
   "cell_type": "code",
   "execution_count": 11,
   "id": "f734391b-006e-4a65-aac9-c21122b1012c",
   "metadata": {},
   "outputs": [
    {
     "data": {
      "text/plain": [
       "([array([-0.30257636, -0.76882194, -0.54812076,  0.57269727, -0.40026895,\n",
       "          0.09127235])],\n",
       " [array([ 0.78229834,  0.83179698, -1.65441878,  0.10237479])],\n",
       " [array([ 0.10814696, -1.72691368])])"
      ]
     },
     "execution_count": 11,
     "metadata": {},
     "output_type": "execute_result"
    }
   ],
   "source": [
    "W1 = [np.random.randn(numConnectionsEachLayer[0])]\n",
    "W2 = [np.random.randn(numConnectionsEachLayer[1])]\n",
    "W3 = [np.random.randn(numConnectionsEachLayer[2])]\n",
    "W1, W2, W3"
   ]
  },
  {
   "cell_type": "code",
   "execution_count": null,
   "id": "73ab3a4f-008b-4a48-baa1-f55d6a86005d",
   "metadata": {},
   "outputs": [],
   "source": []
  },
  {
   "cell_type": "markdown",
   "id": "7ce59983-ce5a-45b5-a0a3-f13f3f5f3a3d",
   "metadata": {},
   "source": [
    "# "
   ]
  }
 ],
 "metadata": {
  "kernelspec": {
   "display_name": "Python 3 (ipykernel)",
   "language": "python",
   "name": "python3"
  },
  "language_info": {
   "codemirror_mode": {
    "name": "ipython",
    "version": 3
   },
   "file_extension": ".py",
   "mimetype": "text/x-python",
   "name": "python",
   "nbconvert_exporter": "python",
   "pygments_lexer": "ipython3",
   "version": "3.12.4"
  }
 },
 "nbformat": 4,
 "nbformat_minor": 5
}
