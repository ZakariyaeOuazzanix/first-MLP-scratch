{
 "cells": [
  {
   "cell_type": "code",
   "execution_count": 1,
   "id": "4a1f42f4-bee4-43cb-8ba8-f5f19166bf26",
   "metadata": {},
   "outputs": [],
   "source": [
    "import numpy as np\n"
   ]
  },
  {
   "cell_type": "code",
   "execution_count": 54,
   "id": "c59c438b-e0fe-47b7-b148-efbb3788fed6",
   "metadata": {},
   "outputs": [],
   "source": [
    "class Value:\n",
    "    def __init__(self, value, op = None, prev1 = None, prev2 = None): #operation of how i got here\n",
    "        self.value = value\n",
    "        self.grad = 0\n",
    "        self.op = op\n",
    "        self.prev1 = prev1\n",
    "        self.prev2 = prev2\n",
    "    \n",
    "    def __repr__(self): \n",
    "        return f\"|Value : {self.value}, grad = {self.grad}|, prev1 : {self.prev1}, prev2 : {self.prev2}\"\n",
    "\n",
    "    def __neg__(self):\n",
    "        return self * (-1)\n",
    "    \n",
    "    def __add__(self, other):\n",
    "        return Value(self.value + other.value, op = '+' , prev1 = self, prev2 = other) if isinstance(other, Value) else Value(self.value + other, op = '+', prev1 = self)\n",
    "\n",
    "    def backward_add(self):\n",
    "        if isinstance(self.prev1, Value):\n",
    "            self.prev1.grad = self.grad\n",
    "            if (isinstance(self.prev2, Value)):\n",
    "                self.prev2.grad = self.grad\n",
    "                self.prev2.backward()\n",
    "            self.prev1.backward\n",
    "    \n",
    "    def __radd__(self, other):\n",
    "        return self + other\n",
    "\n",
    "    def __mul__(self, other):\n",
    "        return Value(self.value * other.value, op = '*', prev1 = self, prev2 = other) if isinstance(other, Value) else Value(self.value * other, op = '*', prev1 = self, prev2 = other)\n",
    "\n",
    "    def backward_mul(self):\n",
    "        if isinstance(self.prev1, Value):\n",
    "            if isinstance(self.prev2, Value):\n",
    "                self.prev1.grad = self.prev2.value\n",
    "                self.prev2.grad = self.prev1.value\n",
    "                self.prev2.backward()\n",
    "            else:\n",
    "                self.prev1.grad = self.prev2\n",
    "            self.prev1.backward()\n",
    "            \n",
    "\n",
    "    def __rmul__(self, other):\n",
    "        return self * other\n",
    "\n",
    "    def backward(self): # for calculating the grad \n",
    "        if self.op == '+':\n",
    "            self.backward_add()\n",
    "        elif self.op == '*':\n",
    "            self.backward_mul()\n",
    "                        "
   ]
  },
  {
   "cell_type": "code",
   "execution_count": 55,
   "id": "c42c2b99-0fd3-482d-8613-8ba8579dbc18",
   "metadata": {},
   "outputs": [],
   "source": [
    "a = Value(3)\n",
    "b = 5 * a\n",
    "c = Value(-2)\n",
    "d = b + c\n",
    "d.grad = 1\n",
    "d.backward()"
   ]
  },
  {
   "cell_type": "code",
   "execution_count": 56,
   "id": "0e9ade37-9de8-43c5-97bd-08bbcf829532",
   "metadata": {},
   "outputs": [
    {
     "name": "stdout",
     "output_type": "stream",
     "text": [
      "|Value : 3, grad = 0|, prev1 : None, prev2 : None\n",
      "|Value : 15, grad = 1|, prev1 : |Value : 3, grad = 0|, prev1 : None, prev2 : None, prev2 : 5\n",
      "|Value : -2, grad = 1|, prev1 : None, prev2 : None\n",
      "|Value : 13, grad = 1|, prev1 : |Value : 15, grad = 1|, prev1 : |Value : 3, grad = 0|, prev1 : None, prev2 : None, prev2 : 5, prev2 : |Value : -2, grad = 1|, prev1 : None, prev2 : None\n"
     ]
    }
   ],
   "source": [
    "print(a)\n",
    "print(b)\n",
    "print(c)\n",
    "print(d)"
   ]
  },
  {
   "cell_type": "code",
   "execution_count": 51,
   "id": "b6e507f1-edc3-42c9-928a-a7b8b0d242da",
   "metadata": {},
   "outputs": [
    {
     "name": "stdout",
     "output_type": "stream",
     "text": [
      "None\n"
     ]
    }
   ],
   "source": [
    "a = None\n",
    "print(a)"
   ]
  },
  {
   "cell_type": "code",
   "execution_count": null,
   "id": "4d765159-e210-46f8-8737-86746e474828",
   "metadata": {},
   "outputs": [],
   "source": []
  }
 ],
 "metadata": {
  "kernelspec": {
   "display_name": "Python 3 (ipykernel)",
   "language": "python",
   "name": "python3"
  },
  "language_info": {
   "codemirror_mode": {
    "name": "ipython",
    "version": 3
   },
   "file_extension": ".py",
   "mimetype": "text/x-python",
   "name": "python",
   "nbconvert_exporter": "python",
   "pygments_lexer": "ipython3",
   "version": "3.12.4"
  }
 },
 "nbformat": 4,
 "nbformat_minor": 5
}
