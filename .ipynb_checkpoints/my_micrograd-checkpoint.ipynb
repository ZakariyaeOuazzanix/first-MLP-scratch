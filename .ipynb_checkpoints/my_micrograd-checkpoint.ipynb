{
 "cells": [
  {
   "cell_type": "code",
   "execution_count": 1,
   "id": "4a1f42f4-bee4-43cb-8ba8-f5f19166bf26",
   "metadata": {},
   "outputs": [],
   "source": [
    "import numpy as np\n"
   ]
  },
  {
   "cell_type": "code",
   "execution_count": 87,
   "id": "c59c438b-e0fe-47b7-b148-efbb3788fed6",
   "metadata": {},
   "outputs": [],
   "source": [
    "class Value:\n",
    "    def __init__(self, value, op = None, prev1 = None, prev2 = None): #operation of how i got here\n",
    "        self.value = value\n",
    "        self.grad = 0\n",
    "        self.op = op\n",
    "        self.prev1 = prev1\n",
    "        self.prev2 = prev2\n",
    "    \n",
    "    def __repr__(self): \n",
    "        if self.prev2:\n",
    "            if isinstance(self.prev2, Value):\n",
    "                return f\"|Value : {self.value}, grad = {self.grad}|, prev1 : {self.prev1.value}, prev2 : {self.prev2.value}\"\n",
    "            else:\n",
    "                return f\"|Value : {self.value}, grad = {self.grad}|, prev1 : {self.prev1.value}, prev2 : {self.prev2}\"\n",
    "        else:\n",
    "            return f\"|Value : {self.value}, grad = {self.grad}|, prev1 : {self.prev1}, prev2 : {self.prev2}\"\n",
    "\n",
    "    # def draw_recurse(self, string):\n",
    "    #     if self.prev1 is None and self.prev2 is None:\n",
    "    #         string += self.value\n",
    "    #     elif self.prev2 is None:\n",
    "    #         if not isinstance(self.prev1, Value):\n",
    "    #             string += self.prev1\n",
    "            \n",
    "    \n",
    "\n",
    "    def __neg__(self):\n",
    "        return self * (-1)\n",
    "    \n",
    "    def __add__(self, other):\n",
    "        return Value(self.value + other.value, op = '+' , prev1 = self, prev2 = other) if isinstance(other, Value) else Value(self.value + other, op = '+', prev1 = self)\n",
    "\n",
    "    def backward_add(self):\n",
    "        if isinstance(self.prev1, Value):\n",
    "            self.prev1.grad = self.grad\n",
    "            if (isinstance(self.prev2, Value)):\n",
    "                self.prev2.grad = self.grad\n",
    "                self.prev2.backward()\n",
    "            self.prev1.backward()\n",
    "    \n",
    "    def __radd__(self, other):\n",
    "        return self + other\n",
    "\n",
    "    def __mul__(self, other):\n",
    "        return Value(self.value * other.value, op = '*', prev1 = self, prev2 = other) if isinstance(other, Value) else Value(self.value * other, op = '*', prev1 = self, prev2 = other)\n",
    "\n",
    "    def backward_mul(self):\n",
    "        if isinstance(self.prev1, Value):\n",
    "            if isinstance(self.prev2, Value):\n",
    "                self.prev1.grad = self.prev2.value\n",
    "                self.prev2.grad = self.prev1.value\n",
    "                self.prev2.backward()\n",
    "            else:\n",
    "                self.prev1.grad = self.prev2\n",
    "            self.prev1.backward()\n",
    "            \n",
    "\n",
    "    def __rmul__(self, other):\n",
    "        return self * other\n",
    "\n",
    "    def backward(self): # for calculating the grad \n",
    "        if self.op == '+':\n",
    "            self.backward_add()\n",
    "        elif self.op == '*':\n",
    "            self.backward_mul()\n",
    "                        "
   ]
  },
  {
   "cell_type": "code",
   "execution_count": 85,
   "id": "75665785-b926-4de1-bc00-b0f27b1e2bec",
   "metadata": {},
   "outputs": [
    {
     "name": "stdout",
     "output_type": "stream",
     "text": [
      "0.19116775658765706\n",
      "-0.3191220171594739\n",
      "-0.8365869052278189\n"
     ]
    }
   ],
   "source": [
    "a = np.random.randn(1,3)\n",
    "\n",
    "for n in a[0] :\n",
    "    print(n.item())"
   ]
  },
  {
   "cell_type": "code",
   "execution_count": 95,
   "id": "76292d2e-831f-4829-b1b2-3050c1a2493b",
   "metadata": {},
   "outputs": [],
   "source": [
    "def RelU(x):\n",
    "    return x if x>0 else 0\n",
    "\n",
    "class Neuron:\n",
    "    def __init__(self, numInputs):\n",
    "        self.weights = np.random.randn(numInputs).reshape(1, numInputs)\n",
    "        for weight in self.weights[0]:\n",
    "            weight = Value(weight.item())\n",
    "        self.bias = Value(np.random.randn(1).item())\n",
    "\n",
    "    def getOutput(self, inputs, len_inputs):\n",
    "        result = 0\n",
    "        if len_inputs == len(self.weights):\n",
    "            for i in range(len_inputs):\n",
    "                result += self.weights[i].value * inputs[i]\n",
    "            result += self.bias.value\n",
    "            return RelU(result)\n",
    "        else:\n",
    "            return None\n",
    "\n",
    "class Layer:\n",
    "    def __init__(self, numNeuronsPrevLayer, numNeurons):\n",
    "        self.neurons = []\n",
    "        for i in range(numNeurons):\n",
    "            self.neurons.append(Neuron(numNeuronsPrevLayer))\n",
    "\n",
    "    def getOuts(self, inputs):\n",
    "        ln = len(inputs)\n",
    "        Outs = []\n",
    "        if ln == len(self.neurons):\n",
    "            for neuron in self.neurons:\n",
    "                Outs.append(neuron.getOutput(inputs, ln))\n",
    "            return Outs\n",
    "        else:\n",
    "            return None\n",
    "\n",
    "class MLP:\n",
    "    def __init__(self, numNeuronsEachLayer, numInputs):\n",
    "        self.layers=[Layer(numInputs, numNeuronsEachLayer[0])]\n",
    "        for i in range(1, len(numNeuronsEachLayer)):\n",
    "            self.layers.append(Layer(numNeuronsEachLayer[i-1], numNeuronsEachLayer[i]))\n",
    "\n",
    "    def getPrediction(self, inputs, target):\n",
    "        for layer in self.layers:\n",
    "            inputs = layer.getOuts(inputs)\n",
    "        return inputs\n",
    "            \n",
    "        "
   ]
  },
  {
   "cell_type": "code",
   "execution_count": 98,
   "id": "868c188e-d837-4f38-9979-e25690426d22",
   "metadata": {},
   "outputs": [
    {
     "name": "stdout",
     "output_type": "stream",
     "text": [
      "None\n"
     ]
    }
   ],
   "source": [
    "mlp = MLP([2,2,1], 2)\n",
    "print(mlp.getPrediction([0.5,1.5], -1))"
   ]
  },
  {
   "cell_type": "code",
   "execution_count": 62,
   "id": "c42c2b99-0fd3-482d-8613-8ba8579dbc18",
   "metadata": {},
   "outputs": [],
   "source": [
    "a = Value(3)\n",
    "b = 5 * a\n",
    "c = Value(-2)\n",
    "d = b + c\n",
    "d.grad = 1\n",
    "d.backward()"
   ]
  },
  {
   "cell_type": "code",
   "execution_count": 63,
   "id": "0e9ade37-9de8-43c5-97bd-08bbcf829532",
   "metadata": {},
   "outputs": [
    {
     "name": "stdout",
     "output_type": "stream",
     "text": [
      "|Value : 3, grad = 5|, prev1 : None, prev2 : None\n",
      "|Value : 15, grad = 1|, prev1 : 3, prev2 : 5\n",
      "|Value : -2, grad = 1|, prev1 : None, prev2 : None\n",
      "|Value : 13, grad = 1|, prev1 : 15, prev2 : -2\n"
     ]
    }
   ],
   "source": [
    "print(a)\n",
    "print(b)\n",
    "print(c)\n",
    "print(d)"
   ]
  },
  {
   "cell_type": "code",
   "execution_count": 51,
   "id": "b6e507f1-edc3-42c9-928a-a7b8b0d242da",
   "metadata": {},
   "outputs": [
    {
     "name": "stdout",
     "output_type": "stream",
     "text": [
      "None\n"
     ]
    }
   ],
   "source": [
    "a = None\n",
    "print(a)"
   ]
  },
  {
   "cell_type": "code",
   "execution_count": 75,
   "id": "4d765159-e210-46f8-8737-86746e474828",
   "metadata": {},
   "outputs": [
    {
     "name": "stdout",
     "output_type": "stream",
     "text": [
      "... ma \n"
     ]
    }
   ],
   "source": [
    "s = 'hi, i am ...'\n",
    "print(s[-1:-8:-1])"
   ]
  },
  {
   "cell_type": "code",
   "execution_count": 86,
   "id": "8653711a-57ad-483d-a625-311e5581024f",
   "metadata": {},
   "outputs": [
    {
     "data": {
      "text/plain": [
       "[0, 0, 0]"
      ]
     },
     "execution_count": 86,
     "metadata": {},
     "output_type": "execute_result"
    }
   ],
   "source": [
    "[0] * 3"
   ]
  },
  {
   "cell_type": "code",
   "execution_count": null,
   "id": "c5455d5f-e23d-4843-be13-4a18d5d8420c",
   "metadata": {},
   "outputs": [],
   "source": []
  }
 ],
 "metadata": {
  "kernelspec": {
   "display_name": "Python 3 (ipykernel)",
   "language": "python",
   "name": "python3"
  },
  "language_info": {
   "codemirror_mode": {
    "name": "ipython",
    "version": 3
   },
   "file_extension": ".py",
   "mimetype": "text/x-python",
   "name": "python",
   "nbconvert_exporter": "python",
   "pygments_lexer": "ipython3",
   "version": "3.12.4"
  }
 },
 "nbformat": 4,
 "nbformat_minor": 5
}
