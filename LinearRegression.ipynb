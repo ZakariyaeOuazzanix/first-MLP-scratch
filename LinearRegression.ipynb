{
 "cells": [
  {
   "cell_type": "code",
   "execution_count": 58,
   "id": "bd2823c1-4aee-495b-a95d-3bbed9e4a59b",
   "metadata": {},
   "outputs": [],
   "source": [
    "import math\n",
    "import matplotlib.pyplot as plt\n",
    "import numpy as np\n",
    "import random"
   ]
  },
  {
   "cell_type": "code",
   "execution_count": 78,
   "id": "694ac3d9-68de-4d17-95f0-781380925503",
   "metadata": {},
   "outputs": [],
   "source": [
    "class Point():\n",
    "    def __init__(self, x_cordinate, y_cordinate):\n",
    "        self.x = float(x_cordinate)\n",
    "        self.y = float(y_cordinate)\n",
    "\n",
    "    @staticmethod\n",
    "    def getRandom(x_min, x_max, y_min, y_max, numPoints = 1):\n",
    "        if numPoints ==1:\n",
    "            random_x = random.random() * (x_max - x_min) + x_min\n",
    "            random_y = random.random() * (y_max - y_min) + y_min\n",
    "            return Point(random_x, random_y)\n",
    "        random_points = []\n",
    "        for i in range(numPoints):\n",
    "            random_x = random.random() * (x_max - x_min) + x_min\n",
    "            random_y = random.random() * (y_max - y_min) + y_min\n",
    "            random_points.append(Point(random_x, random_y))\n",
    "        return random_points\n",
    "            \n",
    "    \n",
    "    def __eq__(self, other):\n",
    "        if isinstance(other, Point):\n",
    "            return self.x == other.x and self.y == other.y\n",
    "        else:\n",
    "            return False\n",
    "\n",
    "    def __ne__(self, other):\n",
    "        return not self.__eq__(other)\n",
    "    \n",
    "    def __repr__(self):\n",
    "        return f\"Point : x = {self.x}, y = {self.y}\"\n",
    "\n",
    "    def _plot(self):\n",
    "        # Create the plot\n",
    "        fig, ax = plt.subplots()\n",
    "        \n",
    "        # Set equal aspect ratio\n",
    "        ax.set_aspect('equal')\n",
    "        ax.plot(self.x, self.y, 'o')\n",
    "\n",
    "class Line():\n",
    "    def __init__(self, X, Y):\n",
    "        if isinstance(X,Point) and isinstance(Y,Point) and X != Y:\n",
    "           if X.x == Y.x:\n",
    "               #self.a = inf\n",
    "               pass\n",
    "           else:\n",
    "               self.a = (X.y - Y.y) / (X.x - Y.x)\n",
    "               self.b = X.y - self.a * X.x\n",
    "        else:\n",
    "            self.a = float(X)\n",
    "            self.b = float(Y)\n",
    "\n",
    "    def __eq__(self, other):\n",
    "        if isinstance(other, Line):\n",
    "            return self.a == other.a and self.b == other.b\n",
    "        else:\n",
    "            return False\n",
    "\n",
    "    def __ne__(self, other):\n",
    "        return not self.__eq__(other)\n",
    "    \n",
    "    def __repr__(self):\n",
    "        return f\"Line : y = {self.a}x + {self.b}\"\n",
    "\n",
    "    def _plot(self):\n",
    "        X = [i for i in range(-10,10)]\n",
    "        Y = [self.a * x + self.b for x in X]\n",
    "        plt.plot(X, Y)\n",
    "\n",
    "def distance(A, B):\n",
    "    if isinstance(A,Point) and isinstance(B,Point):\n",
    "        return math.sqrt((A.x - B.x)**2 + (A.y - B.y)**2)\n",
    "    if (isinstance(A, Line) and isinstance (B, Point)) or (isinstance(A, Line) and isinstance (B, Point)):\n",
    "        line = A\n",
    "        point = B\n",
    "        if isinstance(A, Point):\n",
    "            point = A\n",
    "            line = B\n",
    "        if line.a == 0:\n",
    "            return abs(point.y - line.b)\n",
    "        closest_point = Point(0,0)\n",
    "        closest_point.x = (point.y + (point.x / line.a) - line.b) * (line.a / (line.a**2 + 1))\n",
    "        closest_point.y = line.a * closest_point.x + line.b\n",
    "        return distance(point, closest_point)\n",
    "    if isinstance(A, Line) and isinstance(B, Line):\n",
    "        if A.a != B.a:\n",
    "            return 0\n",
    "        else:\n",
    "            return distance(Point(0,A.b), B)\n",
    "\n",
    "def intersection(A,B):\n",
    "    if isinstance(A, Line) and isinstance(B, Line):\n",
    "        if A.a == B.a:\n",
    "            if A.b == B.b:\n",
    "                return A\n",
    "            else:\n",
    "                return None\n",
    "        else:\n",
    "            x_point = (B.b - A.b)/ (A.a - B.a)\n",
    "            return Point(x_point, A.a * x_point + A.b) \n",
    "    elif isinstance (A,Line) and isinstance(B,Point):\n",
    "        if belongs(A,B):\n",
    "            return B\n",
    "        else:\n",
    "            return None\n",
    "    elif isinstance (B,Line) and isinstance(A,Point):\n",
    "        return intersection(B,A)\n",
    "    elif isinstance(A, Point) and isinstance(B,Point):\n",
    "        if A.x == B.x and A.y == B.y:\n",
    "            return A\n",
    "        else:\n",
    "            return None\n",
    "\n",
    "def belongs(A,B):\n",
    "    if isinstance(A, Point) and isinstance(B,Line):\n",
    "        return A.y == B.a * A.x + B.b\n",
    "    elif isinstance(B, Point) and isinstance(A,Line):\n",
    "        return belongs(B,A)\n",
    "\n",
    "def multiPlot(*things, x_lim = 10, y_lim = 10):\n",
    "        # Create the plot\n",
    "        fig, ax = plt.subplots()\n",
    "        \n",
    "        # Set equal aspect ratio\n",
    "        ax.set_aspect('equal')\n",
    "        \n",
    "        # Set limits (adjust these as needed)\n",
    "        ax.set_xlim(- x_lim, x_lim)\n",
    "        ax.set_ylim(- y_lim, y_lim)\n",
    "        \n",
    "        # Set ticks (adjust step size as needed)\n",
    "        ax.set_xticks(np.arange(- x_lim, x_lim, 1))\n",
    "        ax.set_yticks(np.arange(- y_lim, y_lim, 1))\n",
    "        \n",
    "        for thing in things:\n",
    "            if isinstance(thing, Point):\n",
    "                ax.plot(thing.x, thing.y, 'o')\n",
    "            \n",
    "            if isinstance(thing, Line):\n",
    "                X = [i for i in range(- x_lim, x_lim, 1)]\n",
    "                Y = [thing.a * x + thing.b for x in X ]\n",
    "                ax.plot(X, Y)   \n",
    "\n",
    "        \n",
    "        # Add thin lines for x=0 and y=0\n",
    "        ax.axvline(x=0, color='k', linewidth=0.5)\n",
    "        ax.axhline(y=0, color='k', linewidth=0.5)\n",
    "    \n",
    "        # Add grid for better visibility\n",
    "        ax.grid(True)\n",
    "        \n",
    "        # Show the plot\n",
    "        plt.show()\n",
    "        "
   ]
  },
  {
   "cell_type": "code",
   "execution_count": null,
   "id": "72fbe4e7-3e54-4002-9d32-178a551c9352",
   "metadata": {},
   "outputs": [],
   "source": []
  },
  {
   "cell_type": "code",
   "execution_count": 93,
   "id": "5cfe6bad-96a0-4c9c-9c38-609c96c2419f",
   "metadata": {},
   "outputs": [],
   "source": [
    "def LinearRegression_bigOn3(list_points):\n",
    "    if isinstance(list_points, list) and len(list_points) > 1 :\n",
    "        resultLine = None\n",
    "        minLoss = math.inf\n",
    "        for p1 in list_points:\n",
    "            for p2 in list_points:\n",
    "                if not isinstance(p1, Point) or not isinstance(p2, Point):\n",
    "                    return None\n",
    "                if p1 == p2:\n",
    "                    continue\n",
    "                line = Line(p1, p2)\n",
    "                loss = 0\n",
    "                for p in list_points:\n",
    "                    loss += distance(line, p) **2\n",
    "                if loss < minLoss:\n",
    "                    resultLine = line\n",
    "                    minLoss = loss\n",
    "        return resultLine\n",
    "\n",
    "def LinearRegression_bigOn1_bad(list_points):\n",
    "    average_y_x_ratio = 0\n",
    "    ln = len(list_points)\n",
    "    for i in range(ln):\n",
    "        if not isinstance(list_points[i], Point):\n",
    "            return None\n",
    "        average_y_x_ratio += list_points[i].y / list_points[i].x\n",
    "    average_y_x_ratio /= ln\n",
    "    return Line(average_y_x_ratio, 0)# b is 0 for now\n",
    "\n",
    "def isAbove(point, line):\n",
    "    if isinstance(point,Point) and isinstance(line, Line):\n",
    "        return point.y >= line.a * point.x + line.b\n",
    "    elif isinstance(point,Line) and isinstance(line, Point):\n",
    "        return isAbove(line, point)\n",
    "\n",
    "def get_next_line(num_already_seen_points, good_line, newPoint):\n",
    "    n = num_already_seen_points\n",
    "    if isAbove(newPoint, good_line):\n",
    "        return Line(good_line.a, good_line.b + (distance(good_line, newPoint) / (n + 1)))\n",
    "\n",
    "def LinearRegression_bigOn1_bad2(list_points):\n",
    "    ln = len(list_points)\n",
    "    if ln >= 2:\n",
    "        good_line = Line(list_points[0], list_points[1])\n",
    "        num_already_seen_points = 2\n",
    "        for i in range(2, ln):\n",
    "            good_line = get_next_line(num_already_seen_points, good_line, newPoint = list_points[i])\n",
    "            num_already_seen_points += 1\n",
    "        return good_line\n",
    "    else:\n",
    "        return None\n",
    "\n",
    "def LinearRegressionCombo_1_2(list_points):\n",
    "    good_line = LinearRegression_bigOn1_bad(list_points)\n",
    "    ln = len(list_points)\n",
    "    num_already_seen_points = 0\n",
    "    for i in range(ln):\n",
    "        good_line = get_next_line(num_already_seen_points, good_line, newPoint = list_points[i])\n",
    "        num_already_seen_points += 1\n",
    "    return good_line\n",
    "    "
   ]
  },
  {
   "cell_type": "code",
   "execution_count": 95,
   "id": "c9bc4b30-ab65-43f4-b68e-c1ed247a3e9a",
   "metadata": {},
   "outputs": [
    {
     "data": {
      "image/png": "[encoded data removed]",
      "text/plain": [
       "<Figure size 640x480 with 1 Axes>"
      ]
     },
     "metadata": {},
     "output_type": "display_data"
    }
   ],
   "source": [
    "list_points = []\n",
    "x_min = 0\n",
    "x_max = 0.5\n",
    "y_min = 0\n",
    "y_max = 6\n",
    "for i in range(20):\n",
    "    list_points.append(Point.getRandom(x_min, x_max, y_min, y_max))\n",
    "    x_min += 0.7\n",
    "    x_max += 0.7\n",
    "    y_min += 0.7\n",
    "    y_max += 0.7\n",
    "line = LinearRegression_bigOn1_bad(list_points)\n",
    "line2 = LinearRegression_bigOn1_bad2(list_points)\n",
    "lineCombo = LinearRegressionCombo_1_2(list_points)\n",
    "multiPlot(*list_points, lineCombo, x_lim = 20, y_lim = 20)\n",
    "\n"
   ]
  },
  {
   "cell_type": "code",
   "execution_count": 45,
   "id": "ec6eb074-2f51-41d1-9f93-4a6a472957c7",
   "metadata": {},
   "outputs": [
    {
     "name": "stdout",
     "output_type": "stream",
     "text": [
      "0.4931969619160718\n",
      "2.5298221281347035\n",
      "Line : y = 6.0x + -1.0\n"
     ]
    },
    {
     "data": {
      "image/png": "[encoded data removed]",
      "text/plain": [
       "<Figure size 640x480 with 1 Axes>"
      ]
     },
     "metadata": {},
     "output_type": "display_data"
    }
   ],
   "source": [
    "p1 = Point(1,2)\n",
    "p2 = Point(0,-1)\n",
    "l1 = Line(6,-1)\n",
    "l2 = Line(6,-1)\n",
    "l3 = Line(p1, p2)\n",
    "print(distance(l2,p1))\n",
    "print(math.sqrt(2.4 **2 + 0.8 **2))\n",
    "print(intersection(l1, l2))\n",
    "multiPlot(p1, p2, l1, l2, l3)\n"
   ]
  },
  {
   "cell_type": "code",
   "execution_count": 42,
   "id": "19d8acb5-c488-4c3e-9d29-8bf5c87800bf",
   "metadata": {},
   "outputs": [
    {
     "name": "stdout",
     "output_type": "stream",
     "text": [
      "False\n"
     ]
    }
   ],
   "source": [
    "l1 = Line(5,-1)\n",
    "l2 = Line(5,-1)\n",
    "print(l1 == l2)"
   ]
  },
  {
   "cell_type": "code",
   "execution_count": 39,
   "id": "77b6e80f-7369-48bd-ae0c-64c3e4cf9592",
   "metadata": {},
   "outputs": [
    {
     "data": {
      "text/plain": [
       "[-10, -9, -8, -7, -6, -5, -4, -3, -2, -1, 0, 1, 2, 3, 4, 5, 6, 7, 8, 9]"
      ]
     },
     "execution_count": 39,
     "metadata": {},
     "output_type": "execute_result"
    }
   ],
   "source": [
    "a = 2\n",
    "b= 1\n",
    "X = [i for i in range(-10,10,1)]\n",
    "Y = [a * x + b for x in X]\n",
    "X"
   ]
  },
  {
   "cell_type": "code",
   "execution_count": 47,
   "id": "e1cd2bbb-5b9d-41f6-ab5c-b153964aee6f",
   "metadata": {},
   "outputs": [
    {
     "name": "stdout",
     "output_type": "stream",
     "text": [
      "True\n"
     ]
    }
   ],
   "source": [
    "a = math.inf\n",
    "print(888 < a)"
   ]
  },
  {
   "cell_type": "code",
   "execution_count": null,
   "id": "317b7b2f-0fc6-421e-972f-39d8dc3ef6ae",
   "metadata": {},
   "outputs": [],
   "source": []
  }
 ],
 "metadata": {
  "kernelspec": {
   "display_name": "Python 3 (ipykernel)",
   "language": "python",
   "name": "python3"
  },
  "language_info": {
   "codemirror_mode": {
    "name": "ipython",
    "version": 3
   },
   "file_extension": ".py",
   "mimetype": "text/x-python",
   "name": "python",
   "nbconvert_exporter": "python",
   "pygments_lexer": "ipython3",
   "version": "3.12.4"
  }
 },
 "nbformat": 4,
 "nbformat_minor": 5
}
