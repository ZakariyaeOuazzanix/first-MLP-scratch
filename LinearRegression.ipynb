{
 "cells": [
  {
   "cell_type": "code",
   "execution_count": 1,
   "id": "bd2823c1-4aee-495b-a95d-3bbed9e4a59b",
   "metadata": {},
   "outputs": [],
   "source": [
    "import math\n",
    "import matplotlib.pyplot as plt\n",
    "import numpy as np"
   ]
  },
  {
   "cell_type": "code",
   "execution_count": 40,
   "id": "694ac3d9-68de-4d17-95f0-781380925503",
   "metadata": {},
   "outputs": [],
   "source": [
    "class Point():\n",
    "    def __init__(self, x_cordinate, y_cordinate):\n",
    "        self.x = float(x_cordinate)\n",
    "        self.y = float(y_cordinate)\n",
    "\n",
    "    def __repr__(self):\n",
    "        return f\"Point : x = {self.x}, y = {self.y}\"\n",
    "\n",
    "    def _plot(self):\n",
    "        # Create the plot\n",
    "        fig, ax = plt.subplots()\n",
    "        \n",
    "        # Set equal aspect ratio\n",
    "        ax.set_aspect('equal')\n",
    "        ax.plot(self.x, self.y, 'o')\n",
    "\n",
    "class Line():\n",
    "    def __init__(self, slope, y_intercept):\n",
    "        self.a = float(slope)\n",
    "        self.b = float(y_intercept)\n",
    "\n",
    "    def __repr__(self):\n",
    "        return f\"Line : y = {self.a}x + {self.b}\"\n",
    "\n",
    "    def _plot(self):\n",
    "        X = [i for i in range(-10,10)]\n",
    "        Y = [self.a * x + self.b for x in X]\n",
    "        plt.plot(X, Y)\n",
    "\n",
    "def distance(A, B):\n",
    "    if isinstance(A,Point) and isinstance(B,Point):\n",
    "        return math.sqrt((A.x - B.x)**2 + (A.y - B.y)**2)\n",
    "    if (isinstance(A, Line) and isinstance (B, Point)) or (isinstance(A, Line) and isinstance (B, Point)):\n",
    "        line = A\n",
    "        point = B\n",
    "        if isinstance(A, Point):\n",
    "            point = A\n",
    "            line = B\n",
    "        if line.a == 0:\n",
    "            return abs(point.y - line.b)\n",
    "        closest_point = Point(0,0)\n",
    "        closest_point.x = (point.y + (point.x / line.a) - line.b) * (line.a / (line.a**2 + 1))\n",
    "        closest_point.y = line.a * closest_point.x + line.b\n",
    "        return distance(point, closest_point)\n",
    "    if isinstance(A, Line) and isinstance(B, Line):\n",
    "        if A.a != B.a:\n",
    "            return 0\n",
    "        else:\n",
    "            return distance(Point(0,A.b), B)\n",
    "\n",
    "def intersection(A,B):\n",
    "    if isinstance(A, Line) and isinstance(B, Line):\n",
    "        if A.a == B.a:\n",
    "            if A.b == B.b:\n",
    "                return A\n",
    "            else:\n",
    "                return None\n",
    "        else:\n",
    "            x_point = (B.b - A.b)/ (A.a - B.a)\n",
    "            return Point(x_point, A.a * x_point + A.b) \n",
    "    elif isinstance (A,Line) and isinstance(B,Point):\n",
    "        if belongs(A,B):\n",
    "            return B\n",
    "        else:\n",
    "            return None\n",
    "    elif isinstance (B,Line) and isinstance(A,Point):\n",
    "        return intersection(B,A)\n",
    "    elif isinstance(A, Point) and isinstance(B,Point):\n",
    "        if A.x == B.x and A.y == B.y:\n",
    "            return A\n",
    "        else:\n",
    "            return None\n",
    "\n",
    "def belongs(A,B):\n",
    "    if isinstance(A, Point) and isinstance(B,Line):\n",
    "        return A.y == B.a * A.x + B.b\n",
    "    elif isinstance(B, Point) and isinstance(A,Line):\n",
    "        return belongs(B,A)\n",
    "\n",
    "def multiPlot(*things, x_lim = 10, y_lim = 10):\n",
    "        # Create the plot\n",
    "        fig, ax = plt.subplots()\n",
    "        \n",
    "        # Set equal aspect ratio\n",
    "        ax.set_aspect('equal')\n",
    "        \n",
    "        # Set limits (adjust these as needed)\n",
    "        ax.set_xlim(- x_lim, x_lim)\n",
    "        ax.set_ylim(- y_lim, y_lim)\n",
    "        \n",
    "        # Set ticks (adjust step size as needed)\n",
    "        ax.set_xticks(np.arange(- x_lim, x_lim, 1))\n",
    "        ax.set_yticks(np.arange(- y_lim, y_lim, 1))\n",
    "        \n",
    "        for thing in things:\n",
    "            if isinstance(thing, Point):\n",
    "                ax.plot(thing.x, thing.y, 'o')\n",
    "            \n",
    "            if isinstance(thing, Line):\n",
    "                X = [i for i in range(- x_lim, x_lim, 1)]\n",
    "                Y = [thing.a * x + thing.b for x in X ]\n",
    "                ax.plot(X, Y)   \n",
    "\n",
    "        \n",
    "        # Add thin lines for x=0 and y=0\n",
    "        ax.axvline(x=0, color='k', linewidth=0.5)\n",
    "        ax.axhline(y=0, color='k', linewidth=0.5)\n",
    "    \n",
    "        # Add grid for better visibility\n",
    "        ax.grid(True)\n",
    "        \n",
    "        # Show the plot\n",
    "        plt.show()\n",
    "        "
   ]
  },
  {
   "cell_type": "code",
   "execution_count": 41,
   "id": "ec6eb074-2f51-41d1-9f93-4a6a472957c7",
   "metadata": {},
   "outputs": [
    {
     "name": "stdout",
     "output_type": "stream",
     "text": [
      "0.4931969619160718\n",
      "2.5298221281347035\n",
      "Line : y = 6.0x + -1.0\n"
     ]
    },
    {
     "data": {
      "image/png": "[encoded data removed]",
      "text/plain": [
       "<Figure size 640x480 with 1 Axes>"
      ]
     },
     "metadata": {},
     "output_type": "display_data"
    }
   ],
   "source": [
    "p1 = Point(1,2)\n",
    "p2 = Point(0,-1)\n",
    "l1 = Line(6,-1)\n",
    "l2 = Line(6,-1)\n",
    "print(distance(l2,p1))\n",
    "print(math.sqrt(2.4 **2 + 0.8 **2))\n",
    "print(intersection(l1, l2))\n",
    "multiPlot(p1, p2, l1, l2)\n"
   ]
  },
  {
   "cell_type": "code",
   "execution_count": 25,
   "id": "19d8acb5-c488-4c3e-9d29-8bf5c87800bf",
   "metadata": {},
   "outputs": [
    {
     "name": "stdout",
     "output_type": "stream",
     "text": [
      "Point : x = -1.346153846153846, y = -7.73076923076923\n"
     ]
    }
   ],
   "source": [
    "l1 = Line(5,-1)\n",
    "l2 = Line(-1/5,-8)\n",
    "print(intersection(l1, l2))"
   ]
  },
  {
   "cell_type": "code",
   "execution_count": 39,
   "id": "77b6e80f-7369-48bd-ae0c-64c3e4cf9592",
   "metadata": {},
   "outputs": [
    {
     "data": {
      "text/plain": [
       "[-10, -9, -8, -7, -6, -5, -4, -3, -2, -1, 0, 1, 2, 3, 4, 5, 6, 7, 8, 9]"
      ]
     },
     "execution_count": 39,
     "metadata": {},
     "output_type": "execute_result"
    }
   ],
   "source": [
    "a = 2\n",
    "b= 1\n",
    "X = [i for i in range(-10,10,1)]\n",
    "Y = [a * x + b for x in X]\n",
    "X"
   ]
  },
  {
   "cell_type": "code",
   "execution_count": null,
   "id": "e1cd2bbb-5b9d-41f6-ab5c-b153964aee6f",
   "metadata": {},
   "outputs": [],
   "source": []
  }
 ],
 "metadata": {
  "kernelspec": {
   "display_name": "Python 3 (ipykernel)",
   "language": "python",
   "name": "python3"
  },
  "language_info": {
   "codemirror_mode": {
    "name": "ipython",
    "version": 3
   },
   "file_extension": ".py",
   "mimetype": "text/x-python",
   "name": "python",
   "nbconvert_exporter": "python",
   "pygments_lexer": "ipython3",
   "version": "3.12.4"
  }
 },
 "nbformat": 4,
 "nbformat_minor": 5
}
